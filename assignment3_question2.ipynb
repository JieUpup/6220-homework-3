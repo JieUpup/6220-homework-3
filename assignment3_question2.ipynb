{
  "nbformat": 4,
  "nbformat_minor": 0,
  "metadata": {
    "colab": {
      "provenance": []
    },
    "kernelspec": {
      "name": "python3",
      "display_name": "Python 3"
    },
    "language_info": {
      "name": "python"
    }
  },
  "cells": [
    {
      "cell_type": "markdown",
      "source": [
        "Step1\n",
        "Set up environment for the spark and pandas"
      ],
      "metadata": {
        "id": "6n19bQSwOoM6"
      }
    },
    {
      "cell_type": "code",
      "source": [
        "import pandas as pd\n",
        "import os\n",
        "\n",
        "!pip install pyspark\n",
        "!pip install -U -q PyDrive\n",
        "!apt install openjdk-8-jdk-headless -qq\n",
        "os.environ[\"JAVA_HOME\"] = \"/usr/lib/jvm/java-8-openjdk-amd64\""
      ],
      "metadata": {
        "colab": {
          "base_uri": "https://localhost:8080/"
        },
        "id": "5eowpgOPSMkp",
        "outputId": "61e6c8b4-e609-40c9-dff0-2c38799602c9"
      },
      "execution_count": 1,
      "outputs": [
        {
          "output_type": "stream",
          "name": "stdout",
          "text": [
            "Looking in indexes: https://pypi.org/simple, https://us-python.pkg.dev/colab-wheels/public/simple/\n",
            "Collecting pyspark\n",
            "  Downloading pyspark-3.3.1.tar.gz (281.4 MB)\n",
            "\u001b[2K     \u001b[90m━━━━━━━━━━━━━━━━━━━━━━━━━━━━━━━━━━━━━━━\u001b[0m \u001b[32m281.4/281.4 MB\u001b[0m \u001b[31m4.7 MB/s\u001b[0m eta \u001b[36m0:00:00\u001b[0m\n",
            "\u001b[?25h  Preparing metadata (setup.py) ... \u001b[?25l\u001b[?25hdone\n",
            "Collecting py4j==0.10.9.5\n",
            "  Downloading py4j-0.10.9.5-py2.py3-none-any.whl (199 kB)\n",
            "\u001b[2K     \u001b[90m━━━━━━━━━━━━━━━━━━━━━━━━━━━━━━━━━━━━━━━\u001b[0m \u001b[32m199.7/199.7 KB\u001b[0m \u001b[31m9.7 MB/s\u001b[0m eta \u001b[36m0:00:00\u001b[0m\n",
            "\u001b[?25hBuilding wheels for collected packages: pyspark\n",
            "  Building wheel for pyspark (setup.py) ... \u001b[?25l\u001b[?25hdone\n",
            "  Created wheel for pyspark: filename=pyspark-3.3.1-py2.py3-none-any.whl size=281845512 sha256=7c9e6d3b1c4398061158771d40f1dc75e0c51573ce9924934dd415520c3a3c97\n",
            "  Stored in directory: /root/.cache/pip/wheels/43/dc/11/ec201cd671da62fa9c5cc77078235e40722170ceba231d7598\n",
            "Successfully built pyspark\n",
            "Installing collected packages: py4j, pyspark\n",
            "Successfully installed py4j-0.10.9.5 pyspark-3.3.1\n",
            "The following package was automatically installed and is no longer required:\n",
            "  libnvidia-common-510\n",
            "Use 'apt autoremove' to remove it.\n",
            "The following additional packages will be installed:\n",
            "  openjdk-8-jre-headless\n",
            "Suggested packages:\n",
            "  openjdk-8-demo openjdk-8-source libnss-mdns fonts-dejavu-extra\n",
            "  fonts-ipafont-gothic fonts-ipafont-mincho fonts-wqy-microhei\n",
            "  fonts-wqy-zenhei fonts-indic\n",
            "The following NEW packages will be installed:\n",
            "  openjdk-8-jdk-headless openjdk-8-jre-headless\n",
            "0 upgraded, 2 newly installed, 0 to remove and 21 not upgraded.\n",
            "Need to get 36.5 MB of archives.\n",
            "After this operation, 143 MB of additional disk space will be used.\n",
            "Selecting previously unselected package openjdk-8-jre-headless:amd64.\n",
            "(Reading database ... 128097 files and directories currently installed.)\n",
            "Preparing to unpack .../openjdk-8-jre-headless_8u352-ga-1~20.04_amd64.deb ...\n",
            "Unpacking openjdk-8-jre-headless:amd64 (8u352-ga-1~20.04) ...\n",
            "Selecting previously unselected package openjdk-8-jdk-headless:amd64.\n",
            "Preparing to unpack .../openjdk-8-jdk-headless_8u352-ga-1~20.04_amd64.deb ...\n",
            "Unpacking openjdk-8-jdk-headless:amd64 (8u352-ga-1~20.04) ...\n",
            "Setting up openjdk-8-jre-headless:amd64 (8u352-ga-1~20.04) ...\n",
            "update-alternatives: using /usr/lib/jvm/java-8-openjdk-amd64/jre/bin/orbd to provide /usr/bin/orbd (orbd) in auto mode\n",
            "update-alternatives: using /usr/lib/jvm/java-8-openjdk-amd64/jre/bin/servertool to provide /usr/bin/servertool (servertool) in auto mode\n",
            "update-alternatives: using /usr/lib/jvm/java-8-openjdk-amd64/jre/bin/tnameserv to provide /usr/bin/tnameserv (tnameserv) in auto mode\n",
            "Setting up openjdk-8-jdk-headless:amd64 (8u352-ga-1~20.04) ...\n",
            "update-alternatives: using /usr/lib/jvm/java-8-openjdk-amd64/bin/idlj to provide /usr/bin/idlj (idlj) in auto mode\n",
            "update-alternatives: using /usr/lib/jvm/java-8-openjdk-amd64/bin/wsimport to provide /usr/bin/wsimport (wsimport) in auto mode\n",
            "update-alternatives: using /usr/lib/jvm/java-8-openjdk-amd64/bin/jsadebugd to provide /usr/bin/jsadebugd (jsadebugd) in auto mode\n",
            "update-alternatives: using /usr/lib/jvm/java-8-openjdk-amd64/bin/native2ascii to provide /usr/bin/native2ascii (native2ascii) in auto mode\n",
            "update-alternatives: using /usr/lib/jvm/java-8-openjdk-amd64/bin/javah to provide /usr/bin/javah (javah) in auto mode\n",
            "update-alternatives: using /usr/lib/jvm/java-8-openjdk-amd64/bin/clhsdb to provide /usr/bin/clhsdb (clhsdb) in auto mode\n",
            "update-alternatives: using /usr/lib/jvm/java-8-openjdk-amd64/bin/xjc to provide /usr/bin/xjc (xjc) in auto mode\n",
            "update-alternatives: using /usr/lib/jvm/java-8-openjdk-amd64/bin/hsdb to provide /usr/bin/hsdb (hsdb) in auto mode\n",
            "update-alternatives: using /usr/lib/jvm/java-8-openjdk-amd64/bin/schemagen to provide /usr/bin/schemagen (schemagen) in auto mode\n",
            "update-alternatives: using /usr/lib/jvm/java-8-openjdk-amd64/bin/extcheck to provide /usr/bin/extcheck (extcheck) in auto mode\n",
            "update-alternatives: using /usr/lib/jvm/java-8-openjdk-amd64/bin/jhat to provide /usr/bin/jhat (jhat) in auto mode\n",
            "update-alternatives: using /usr/lib/jvm/java-8-openjdk-amd64/bin/wsgen to provide /usr/bin/wsgen (wsgen) in auto mode\n"
          ]
        }
      ]
    },
    {
      "cell_type": "markdown",
      "source": [
        "Step2 Generate 1000 randoms number to form an array to computing.\n"
      ],
      "metadata": {
        "id": "hY3fjYi_O47g"
      }
    },
    {
      "cell_type": "code",
      "source": [
        "import numpy as np\n",
        "import matplotlib.pyplot as plt\n",
        "from scipy.stats import poisson\n",
        "import pandas as pd\n",
        "\n",
        "# random lifetime in minutes for N = 1000\n",
        "data_arr = [ np.random.randint(1000,2000) for i in range(1000) ]\n",
        "print(data_arr)\n",
        "\n",
        "\n",
        "\n"
      ],
      "metadata": {
        "colab": {
          "base_uri": "https://localhost:8080/"
        },
        "id": "y7XAty-Tc8Z0",
        "outputId": "d6e4f873-3a2b-48c1-f199-bd2a15508248"
      },
      "execution_count": 78,
      "outputs": [
        {
          "output_type": "stream",
          "name": "stdout",
          "text": [
            "[1515, 1760, 1610, 1759, 1550, 1912, 1199, 1103, 1423, 1389, 1535, 1547, 1675, 1994, 1861, 1840, 1435, 1115, 1130, 1450, 1622, 1506, 1977, 1974, 1607, 1265, 1870, 1578, 1090, 1136, 1019, 1362, 1442, 1715, 1509, 1566, 1861, 1885, 1191, 1592, 1444, 1310, 1855, 1122, 1631, 1750, 1959, 1967, 1345, 1985, 1018, 1377, 1687, 1418, 1171, 1612, 1328, 1589, 1139, 1742, 1837, 1766, 1966, 1091, 1213, 1180, 1024, 1759, 1101, 1321, 1243, 1456, 1690, 1623, 1575, 1786, 1016, 1619, 1357, 1346, 1587, 1554, 1551, 1022, 1473, 1855, 1046, 1643, 1009, 1915, 1718, 1327, 1028, 1194, 1939, 1429, 1736, 1939, 1552, 1563, 1519, 1161, 1987, 1267, 1931, 1302, 1084, 1158, 1481, 1095, 1825, 1777, 1841, 1357, 1583, 1926, 1866, 1418, 1026, 1882, 1601, 1172, 1353, 1171, 1129, 1908, 1360, 1397, 1816, 1872, 1901, 1880, 1851, 1464, 1546, 1962, 1362, 1643, 1496, 1203, 1668, 1385, 1426, 1671, 1913, 1533, 1471, 1930, 1456, 1309, 1965, 1306, 1141, 1310, 1619, 1830, 1813, 1334, 1441, 1176, 1252, 1091, 1690, 1549, 1111, 1600, 1157, 1814, 1512, 1291, 1192, 1742, 1294, 1415, 1775, 1028, 1366, 1113, 1445, 1070, 1140, 1273, 1161, 1550, 1397, 1713, 1963, 1149, 1928, 1088, 1167, 1741, 1090, 1398, 1392, 1526, 1951, 1885, 1574, 1035, 1852, 1591, 1881, 1618, 1291, 1660, 1889, 1218, 1510, 1546, 1903, 1787, 1251, 1900, 1046, 1255, 1145, 1382, 1624, 1302, 1814, 1386, 1593, 1187, 1049, 1304, 1634, 1362, 1787, 1535, 1580, 1392, 1443, 1394, 1707, 1655, 1747, 1249, 1500, 1537, 1957, 1932, 1876, 1742, 1522, 1928, 1720, 1515, 1134, 1468, 1465, 1137, 1219, 1384, 1553, 1498, 1094, 1633, 1073, 1044, 1760, 1397, 1201, 1359, 1894, 1526, 1321, 1438, 1325, 1565, 1981, 1342, 1675, 1312, 1788, 1099, 1779, 1284, 1027, 1302, 1484, 1015, 1054, 1791, 1785, 1655, 1190, 1009, 1016, 1012, 1789, 1752, 1825, 1257, 1081, 1538, 1404, 1474, 1621, 1620, 1398, 1816, 1499, 1567, 1614, 1122, 1088, 1669, 1545, 1977, 1578, 1642, 1573, 1971, 1892, 1215, 1936, 1037, 1869, 1622, 1741, 1531, 1160, 1760, 1250, 1804, 1721, 1538, 1134, 1690, 1155, 1936, 1773, 1604, 1198, 1255, 1295, 1327, 1420, 1785, 1789, 1660, 1036, 1391, 1244, 1127, 1195, 1993, 1867, 1213, 1840, 1256, 1733, 1605, 1187, 1624, 1567, 1121, 1102, 1222, 1860, 1667, 1736, 1492, 1452, 1245, 1250, 1322, 1910, 1514, 1669, 1440, 1192, 1407, 1366, 1863, 1338, 1757, 1984, 1622, 1694, 1766, 1660, 1111, 1051, 1743, 1619, 1537, 1839, 1221, 1610, 1138, 1831, 1396, 1424, 1737, 1957, 1852, 1688, 1609, 1727, 1444, 1789, 1376, 1536, 1514, 1373, 1672, 1419, 1038, 1053, 1119, 1662, 1186, 1941, 1321, 1201, 1801, 1989, 1028, 1509, 1693, 1177, 1993, 1079, 1553, 1589, 1059, 1535, 1905, 1192, 1791, 1275, 1312, 1900, 1659, 1715, 1369, 1616, 1592, 1488, 1332, 1265, 1051, 1993, 1759, 1190, 1406, 1114, 1198, 1970, 1445, 1888, 1537, 1874, 1043, 1994, 1922, 1633, 1025, 1325, 1174, 1446, 1440, 1999, 1496, 1650, 1851, 1185, 1000, 1827, 1400, 1875, 1934, 1666, 1176, 1617, 1862, 1035, 1928, 1022, 1448, 1648, 1308, 1996, 1335, 1526, 1612, 1102, 1117, 1165, 1626, 1947, 1380, 1724, 1106, 1599, 1941, 1065, 1444, 1800, 1574, 1427, 1250, 1109, 1683, 1225, 1959, 1283, 1006, 1388, 1059, 1760, 1486, 1425, 1687, 1737, 1462, 1835, 1308, 1408, 1259, 1402, 1411, 1301, 1710, 1786, 1495, 1178, 1201, 1577, 1980, 1998, 1349, 1670, 1864, 1328, 1330, 1662, 1301, 1796, 1204, 1868, 1249, 1010, 1569, 1414, 1315, 1009, 1417, 1293, 1921, 1037, 1582, 1064, 1318, 1062, 1360, 1431, 1456, 1101, 1388, 1223, 1735, 1248, 1471, 1626, 1845, 1766, 1374, 1070, 1195, 1059, 1698, 1400, 1915, 1391, 1422, 1425, 1230, 1950, 1612, 1441, 1898, 1832, 1440, 1828, 1064, 1503, 1618, 1290, 1625, 1545, 1004, 1743, 1682, 1120, 1311, 1743, 1776, 1881, 1785, 1446, 1403, 1506, 1782, 1677, 1454, 1187, 1199, 1340, 1133, 1043, 1817, 1931, 1592, 1653, 1840, 1429, 1657, 1018, 1107, 1542, 1073, 1848, 1424, 1561, 1183, 1917, 1254, 1573, 1156, 1730, 1156, 1507, 1005, 1945, 1391, 1715, 1341, 1566, 1121, 1382, 1667, 1158, 1680, 1650, 1516, 1990, 1512, 1481, 1372, 1030, 1192, 1364, 1367, 1631, 1752, 1198, 1702, 1572, 1980, 1482, 1028, 1486, 1280, 1656, 1808, 1850, 1743, 1773, 1852, 1671, 1238, 1794, 1845, 1213, 1183, 1115, 1403, 1376, 1684, 1946, 1512, 1128, 1123, 1063, 1400, 1776, 1848, 1858, 1932, 1809, 1099, 1050, 1618, 1260, 1077, 1719, 1441, 1750, 1562, 1249, 1968, 1338, 1335, 1365, 1044, 1634, 1582, 1222, 1310, 1050, 1957, 1971, 1657, 1418, 1152, 1328, 1899, 1747, 1365, 1531, 1880, 1644, 1898, 1759, 1557, 1538, 1773, 1817, 1200, 1449, 1416, 1078, 1746, 1524, 1488, 1832, 1584, 1266, 1769, 1937, 1170, 1340, 1627, 1868, 1426, 1898, 1014, 1408, 1656, 1039, 1039, 1831, 1103, 1717, 1035, 1780, 1638, 1088, 1528, 1450, 1992, 1690, 1901, 1436, 1319, 1966, 1719, 1273, 1207, 1798, 1660, 1218, 1461, 1983, 1540, 1935, 1251, 1182, 1802, 1681, 1839, 1367, 1949, 1589, 1601, 1088, 1164, 1826, 1858, 1487, 1248, 1988, 1186, 1861, 1729, 1803, 1385, 1165, 1908, 1139, 1618, 1651, 1720, 1433, 1698, 1554, 1828, 1633, 1260, 1182, 1318, 1932, 1611, 1731, 1906, 1758, 1293, 1773, 1552, 1852, 1510, 1368, 1399, 1934, 1727, 1598, 1166, 1510, 1845, 1710, 1889, 1314, 1527, 1484, 1066, 1570, 1670, 1652, 1110, 1807, 1617, 1692, 1827, 1237, 1643, 1693, 1488, 1660, 1252, 1215, 1617, 1310, 1451, 1442, 1787, 1859, 1756, 1913, 1395, 1738, 1088, 1271, 1530, 1200, 1638, 1951, 1929, 1163, 1172, 1470, 1679, 1121, 1198, 1782, 1559, 1606, 1541, 1793, 1648, 1979, 1672, 1157, 1872, 1229, 1190, 1426, 1199, 1370, 1844, 1225, 1534, 1850, 1334, 1759, 1467, 1376, 1003, 1836, 1196, 1866, 1472, 1240, 1287, 1025, 1434, 1677, 1968, 1969, 1255, 1592, 1443, 1985, 1988, 1645, 1839, 1638, 1402, 1122, 1722, 1628, 1176, 1074, 1641, 1726, 1114, 1321, 1819, 1314, 1485, 1844, 1079, 1598, 1087, 1982, 1471, 1492, 1324, 1333, 1841, 1959, 1964, 1823, 1187, 1193, 1932, 1022, 1642, 1431, 1062, 1037, 1113, 1894, 1333, 1185, 1322, 1870, 1340, 1528, 1476, 1651, 1266, 1911, 1820, 1817, 1639, 1054, 1374, 1728, 1030, 1267, 1112, 1164, 1548, 1879, 1537, 1871, 1751, 1095, 1401, 1788, 1818, 1983, 1264, 1900, 1923, 1807, 1401, 1332, 1991, 1113, 1706, 1117, 1728, 1077, 1066, 1118, 1494]\n"
          ]
        }
      ]
    },
    {
      "cell_type": "code",
      "source": [
        "from scipy.stats import poisson\n",
        "from datascience import *\n",
        "import numpy as np\n",
        "%matplotlib inline\n",
        "import matplotlib.pyplot as plots\n",
        "#plots.style.use('fivethirtyeight')\n",
        "\n",
        "# Random 1000 data in poisson distribution\n",
        "# and the bulb life time vary from 50 in hours\n",
        "Pois = Table().with_column('PDF',np.random.poisson(lam=50,size=1000))\n",
        "\n",
        "Pois.hist()\n",
        "\n",
        "# the easiest way to calculate the lambda para is to use the mean \n",
        "lamb = np.mean((Pois.column(0)))\n",
        "\n",
        "# for better understand the quality of the mean, we could use PMF (probability mass function)\n",
        "# to evalate the quality of the lamb in different value\n",
        "\n",
        "# First the got the biggest and smallest value inside the Pois data array\n",
        "# And evaluate the PMF for each value\n",
        "Pois\n",
        "#likehood\n",
        "def likihood(lam):\n",
        "  for k in Pois.column(0):\n",
        "\n",
        "\n",
        "    arr = poisson.pmf(k=k, mu = lam)\n",
        "    return np.sum(arr)\n",
        "\n",
        "\n",
        "# lambdas possibility about mean value\n",
        "lambs = np.arange(lamb-10,lamb+10,0.5)\n",
        "\n",
        "# likelihood\n",
        "mle_arr = make_array()\n",
        "for lam in lambs:\n",
        "  #print(lam)\n",
        "  mle_arr = np.append(mle_arr, likihood(lam))\n",
        "\n",
        "# plot the PMF for each possible lambda value depend on the simulated data \n",
        "plots.plot(lambs, mle_arr)\n",
        "\n",
        "# from the plot of the curv, looks the PMF lambda value is little bit different than the \n",
        "# than the mean value 50 and maybe due to the quality of simulated data"
      ],
      "metadata": {
        "colab": {
          "base_uri": "https://localhost:8080/",
          "height": 298
        },
        "id": "hFyTRCIiadAY",
        "outputId": "121c0a01-514f-4807-c376-7528761b32df"
      },
      "execution_count": 80,
      "outputs": [
        {
          "output_type": "execute_result",
          "data": {
            "text/plain": [
              "[<matplotlib.lines.Line2D at 0x7f10e40936d0>]"
            ]
          },
          "metadata": {},
          "execution_count": 80
        },
        {
          "output_type": "display_data",
          "data": {
            "text/plain": [
              "<Figure size 432x288 with 1 Axes>"
            ],
            "image/png": "[encoded data removed]"
          },
          "metadata": {
            "needs_background": "light"
          }
        }
      ]
    }
  ]
}